{
 "cells": [
  {
   "cell_type": "code",
   "execution_count": 1,
   "metadata": {
    "collapsed": true
   },
   "outputs": [],
   "source": [
    "%matplotlib inline\n",
    "import cv2\n",
    "import numpy as np\n",
    "import os\n",
    "import sys\n",
    "import time\n",
    "from matplotlib import pyplot as plt\n",
    "from IPython import display\n"
   ]
  },
  {
   "cell_type": "code",
   "execution_count": 2,
   "metadata": {
    "collapsed": true
   },
   "outputs": [],
   "source": [
    "screen_x_eff, screen_y_eff = 1125,1958\n",
    "jumper_foot_offset = 20\n",
    "holdDt = 1.392\n",
    "tap_x, tap_y = 600,1000"
   ]
  },
  {
   "cell_type": "code",
   "execution_count": 3,
   "metadata": {
    "collapsed": true
   },
   "outputs": [],
   "source": [
    "#load jumper template\n",
    "jumper_template = cv2.imread('jumper.png')\n",
    "template_h,template_w = jumper_template.shape[0:2]\n"
   ]
  },
  {
   "cell_type": "code",
   "execution_count": 4,
   "metadata": {
    "collapsed": true
   },
   "outputs": [],
   "source": [
    "def jump(distance):\n",
    "    dt = int(holdDt * distance)\n",
    "    rand_tapxy = np.random.randn(4,)*3 #ad some randomness in the tap location\n",
    "    cmd_msg = 'adb shell input swipe {x1} {y1} {x2} {y2} {dt}'.format(\n",
    "        x1=tap_x+int(rand_tapxy[0]),y1=tap_y+int(rand_tapxy[1]),\n",
    "        x2=tap_x+int(rand_tapxy[2]),y2=tap_y+int(rand_tapxy[3]),\n",
    "        dt=dt)\n",
    "    os.system(cmd_msg)\n",
    "    return dt    "
   ]
  },
  {
   "cell_type": "code",
   "execution_count": 5,
   "metadata": {
    "collapsed": true
   },
   "outputs": [],
   "source": [
    "def find_position(im_name):\n",
    "    \n",
    "    img = cv2.imread(im_name);\n",
    "    res = cv2.matchTemplate(img,jumper_template,cv2.TM_SQDIFF_NORMED) #find jumper template matching\n",
    "    min_val, max_val, min_loc, max_loc = cv2.minMaxLoc(res)\n",
    "    print(min_val)\n",
    "    if min_val>0.3: #fail to find a match\n",
    "        return -1,-1,img\n",
    "    \n",
    "    top_left = min_loc\n",
    "    bottom_right = (top_left[0] + template_w, top_left[1] + template_h)\n",
    "\n",
    "    jumper_xy = (top_left[0]+int(template_w*0.5), top_left[1]+template_h-jumper_foot_offset) #jumper base location\n",
    "    target_xy = (screen_x_eff-jumper_xy[0],screen_y_eff-jumper_xy[1])  #mirror the jumper base location to get the target base location\n",
    "    \n",
    "    distance = np.sqrt(np.square(target_xy[0]-jumper_xy[0])+np.square(target_xy[1]-jumper_xy[1])) #compute jump distance\n",
    "\n",
    "    #print(target_xy,distance)\n",
    "    cv2.rectangle(img,top_left, bottom_right, 255, 2)   # highlight where the jumper template is found\n",
    "    cv2.circle(img,jumper_xy, 10, 255, 2)               # highlight jumper base location\n",
    "    cv2.circle(img,target_xy, 10, 255, 2)               # highlight target base location\n",
    "\n",
    "    #print(jumper_xy,target_xy,distance)\n",
    "    return target_xy,distance,img"
   ]
  },
  {
   "cell_type": "code",
   "execution_count": 6,
   "metadata": {},
   "outputs": [
    {
     "name": "stdout",
     "output_type": "stream",
     "text": [
      "failed\n"
     ]
    },
    {
     "data": {
      "text/plain": [
       "<matplotlib.figure.Figure at 0x10a260f0>"
      ]
     },
     "metadata": {},
     "output_type": "display_data"
    }
   ],
   "source": [
    "while True:\n",
    "    os.system('adb shell screencap /sdcard/1.png');     #take a screenshot\n",
    "    os.system('adb pull /sdcard/1.png ./scrshot.png');  #download the screenshot to local disk\n",
    "    \n",
    "    target_xy,distance,img = find_position('scrshot.png');\n",
    "    \n",
    "    plt.clf()\n",
    "    fig=plt.figure(figsize=(18, 16))\n",
    "    plt.subplot(111)\n",
    "    plt.imshow(cv2.cvtColor(img, cv2.COLOR_BGR2RGB))\n",
    "    plt.xticks([]), plt.yticks([])\n",
    "    plt.show()\n",
    "\n",
    "    display.display(plt.gcf())\n",
    "    display.clear_output(wait=True)   \n",
    "    \n",
    "    if distance<0: #fail to find match\n",
    "        print('failed');\n",
    "        break;\n",
    "    jump(distance);\n",
    "    time.sleep(2);\n",
    "    "
   ]
  },
  {
   "cell_type": "code",
   "execution_count": null,
   "metadata": {
    "collapsed": true
   },
   "outputs": [],
   "source": []
  }
 ],
 "metadata": {
  "kernelspec": {
   "display_name": "Python 2",
   "language": "python",
   "name": "python2"
  },
  "language_info": {
   "codemirror_mode": {
    "name": "ipython",
    "version": 2
   },
   "file_extension": ".py",
   "mimetype": "text/x-python",
   "name": "python",
   "nbconvert_exporter": "python",
   "pygments_lexer": "ipython2",
   "version": "2.7.12"
  }
 },
 "nbformat": 4,
 "nbformat_minor": 2
}
