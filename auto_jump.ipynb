{
 "cells": [
  {
   "cell_type": "code",
   "execution_count": 1,
   "metadata": {
    "collapsed": true
   },
   "outputs": [],
   "source": [
    "%matplotlib inline\n",
    "import cv2\n",
    "import numpy as np\n",
    "import os\n",
    "import sys\n",
    "import time\n",
    "from matplotlib import pyplot as plt\n",
    "from IPython import display\n"
   ]
  },
  {
   "cell_type": "code",
   "execution_count": 2,
   "metadata": {
    "collapsed": true
   },
   "outputs": [],
   "source": [
    "screen_x_eff, screen_y_eff = 1125,1958\n",
    "jumper_foot_offset = 20\n",
    "holdDt = 1.39\n",
    "tap_x, tap_y = 600,1000\n",
    "\n",
    "background_xy = (10,980)\n",
    "header_y,foot_y = 400,1200\n"
   ]
  },
  {
   "cell_type": "code",
   "execution_count": 4,
   "metadata": {},
   "outputs": [],
   "source": [
    "#load jumper template\n",
    "jumper_template = cv2.imread('jumper.png')\n",
    "template_h,template_w = jumper_template.shape[0:2]"
   ]
  },
  {
   "cell_type": "code",
   "execution_count": 5,
   "metadata": {
    "collapsed": true
   },
   "outputs": [],
   "source": [
    "def jump(distance):\n",
    "    dt = int(holdDt * distance)\n",
    "    rand_tapxy = np.random.randn(4,)*15 #ad some randomness in the tap location\n",
    "    cmd_msg = 'adb shell input swipe {x1} {y1} {x2} {y2} {dt}'.format(\n",
    "        x1=tap_x+int(rand_tapxy[0]),y1=tap_y+int(rand_tapxy[1]),\n",
    "        x2=tap_x+int(rand_tapxy[2]),y2=tap_y+int(rand_tapxy[3]),\n",
    "        dt=dt)\n",
    "    os.system(cmd_msg)\n",
    "    return dt    "
   ]
  },
  {
   "cell_type": "code",
   "execution_count": 6,
   "metadata": {
    "collapsed": true
   },
   "outputs": [],
   "source": [
    "def find_jumper_xy(img):\n",
    "    #matching jumper\n",
    "    res = cv2.matchTemplate(img,jumper_template,cv2.TM_SQDIFF_NORMED) #find jumper template matching\n",
    "    min_val, max_val, min_loc, max_loc = cv2.minMaxLoc(res)\n",
    "\n",
    "    if min_val>0.3: #fail to find a match\n",
    "        print(min_val,'no matching!')\n",
    "        return -1,-1,img\n",
    "    else:\n",
    "        print(min_val,'matching!')        \n",
    "    \n",
    "    top_left = min_loc\n",
    "    bottom_right = (top_left[0] + template_w, top_left[1] + template_h)\n",
    "\n",
    "    jumper_xy = (top_left[0]+int(template_w*0.5), top_left[1]+template_h-jumper_foot_offset) #jumper base location\n",
    "        \n",
    "    background_color = img[background_xy[1],background_xy[0],:]\n",
    "\n",
    "    img[top_left[1]:bottom_right[1]+1,top_left[0]:bottom_right[0]+1,:]=background_color\n",
    "        \n",
    "    return jumper_xy,img"
   ]
  },
  {
   "cell_type": "code",
   "execution_count": 7,
   "metadata": {
    "collapsed": true
   },
   "outputs": [],
   "source": [
    "def find_target_xy(img,jumper_xy):\n",
    "    \n",
    "    im_blur = cv2.GaussianBlur(img,(5,5),0)\n",
    "    canny = cv2.Canny(im_blur, 1, 10) \n",
    "    canny[0:header_y,:] = 0\n",
    "    canny[foot_y:,:] = 0\n",
    "\n",
    "    y_top = np.nonzero([max(row) for row in canny])[0][0]\n",
    "    x_top_left = np.min(np.nonzero(canny[y_top]))\n",
    "    x_top_right = np.max(np.nonzero(canny[y_top]))\n",
    "    x_top = int(np.mean(np.nonzero(canny[y_top])))\n",
    "\n",
    "    topcorner_xy = (x_top,y_top);\n",
    "\n",
    "    #search left boundary\n",
    "    target_color = img[y_top + 2,x_top];\n",
    "    y_current = y_top;\n",
    "    x_current = x_top;\n",
    "    while True:\n",
    "        y_current += 1;\n",
    "        x_search_range = range(x_current-20,x_current);\n",
    "        color_diff = np.linalg.norm(img[y_current,x_search_range,:]-target_color,axis=1)\n",
    "        if np.min(color_diff)<30:\n",
    "            x_current = x_search_range[np.argmin(color_diff)];\n",
    "            target_color = img[y_current,x_current];\n",
    "        else: #found corner\n",
    "            leftcorner_xy = (x_current,y_current-1);\n",
    "            break;\n",
    "\n",
    "    #search right boundary\n",
    "    target_color = img[y_top+1,x_top];\n",
    "    y_current = y_top;\n",
    "    x_current = x_top;\n",
    "    while True:\n",
    "        y_current += 1;\n",
    "        x_search_range = range(x_current+20,x_current,-1);\n",
    "        color_diff = np.linalg.norm(img[y_current,x_search_range,:]-target_color,axis=1)\n",
    "        if np.min(color_diff)<30:\n",
    "            x_current = x_search_range[np.argmin(color_diff)];\n",
    "            target_color = img[y_current,x_current];\n",
    "        else: #found corner\n",
    "            rightcorner_xy = (x_current,y_current-1);\n",
    "            break;\n",
    "\n",
    "    img = cv2.line(img,topcorner_xy,leftcorner_xy, (0,255,0), 2)   # highlight where the jumper center is found\n",
    "    img = cv2.line(img,topcorner_xy,rightcorner_xy, (0,255,0), 2)   # highlight where the jumper center is found\n",
    "    img = cv2.line(img,leftcorner_xy,rightcorner_xy, (0,255,0), 2)   # highlight where the jumper center is found\n",
    "\n",
    "    target_xy = ((leftcorner_xy[0]+rightcorner_xy[0])/2,(leftcorner_xy[1]+rightcorner_xy[1])/2);\n",
    "\n",
    "    return target_xy,img"
   ]
  },
  {
   "cell_type": "code",
   "execution_count": 8,
   "metadata": {
    "collapsed": true
   },
   "outputs": [],
   "source": [
    "def find_positions(im_name):\n",
    "    \n",
    "    img = cv2.imread(im_name);\n",
    "    \n",
    "    jumper_xy,img = find_jumper_xy(img);\n",
    "\n",
    "    mirrored_xy = (screen_x_eff-jumper_xy[0],screen_y_eff-jumper_xy[1])  #mirror the jumper base location to get the target base location\n",
    "\n",
    "    target_xy, img = find_target_xy(img,jumper_xy);\n",
    "    \n",
    "    img = cv2.circle(img,jumper_xy, 10, 255, 2)               # highlight jumper base location\n",
    "    img = cv2.circle(img,target_xy, 10, 255, 2)               # highlight target base location\n",
    "    \n",
    "    target_xy = ((target_xy[0]+mirrored_xy[0])/2,(target_xy[1]+mirrored_xy[1])/2)\n",
    "    \n",
    "    img = cv2.circle(img,target_xy, 10, (0,255,255), 2)               # highlight target base location\n",
    "    \n",
    "    distance = np.sqrt(np.square(target_xy[0]-jumper_xy[0])+np.square(target_xy[1]-jumper_xy[1])) #compute jump distance\n",
    "\n",
    "    \n",
    "    return jumper_xy,target_xy,distance,img"
   ]
  },
  {
   "cell_type": "code",
   "execution_count": 12,
   "metadata": {},
   "outputs": [
    {
     "name": "stdout",
     "output_type": "stream",
     "text": [
      "(0.4057019054889679, 'no matching!')\n"
     ]
    },
    {
     "ename": "ValueError",
     "evalue": "too many values to unpack",
     "output_type": "error",
     "traceback": [
      "\u001b[1;31m---------------------------------------------------------------------------\u001b[0m",
      "\u001b[1;31mValueError\u001b[0m                                Traceback (most recent call last)",
      "\u001b[1;32m<ipython-input-12-37c154914664>\u001b[0m in \u001b[0;36m<module>\u001b[1;34m()\u001b[0m\n\u001b[0;32m      3\u001b[0m     \u001b[0mos\u001b[0m\u001b[1;33m.\u001b[0m\u001b[0msystem\u001b[0m\u001b[1;33m(\u001b[0m\u001b[1;34m'adb pull /sdcard/1.png ./scrshot.png'\u001b[0m\u001b[1;33m)\u001b[0m\u001b[1;33m;\u001b[0m  \u001b[1;31m#download the screenshot to local disk\u001b[0m\u001b[1;33m\u001b[0m\u001b[0m\n\u001b[0;32m      4\u001b[0m \u001b[1;33m\u001b[0m\u001b[0m\n\u001b[1;32m----> 5\u001b[1;33m     \u001b[0mjumper_xy\u001b[0m\u001b[1;33m,\u001b[0m\u001b[0mtarget_xy\u001b[0m\u001b[1;33m,\u001b[0m\u001b[0mdistance\u001b[0m\u001b[1;33m,\u001b[0m\u001b[0mimg\u001b[0m \u001b[1;33m=\u001b[0m \u001b[0mfind_positions\u001b[0m\u001b[1;33m(\u001b[0m\u001b[1;34m'scrshot.png'\u001b[0m\u001b[1;33m)\u001b[0m\u001b[1;33m;\u001b[0m\u001b[1;33m\u001b[0m\u001b[0m\n\u001b[0m\u001b[0;32m      6\u001b[0m \u001b[1;33m\u001b[0m\u001b[0m\n\u001b[0;32m      7\u001b[0m     \u001b[0mplt\u001b[0m\u001b[1;33m.\u001b[0m\u001b[0mclf\u001b[0m\u001b[1;33m(\u001b[0m\u001b[1;33m)\u001b[0m\u001b[1;33m\u001b[0m\u001b[0m\n",
      "\u001b[1;32m<ipython-input-8-08a9f6904a20>\u001b[0m in \u001b[0;36mfind_positions\u001b[1;34m(im_name)\u001b[0m\n\u001b[0;32m      3\u001b[0m     \u001b[0mimg\u001b[0m \u001b[1;33m=\u001b[0m \u001b[0mcv2\u001b[0m\u001b[1;33m.\u001b[0m\u001b[0mimread\u001b[0m\u001b[1;33m(\u001b[0m\u001b[0mim_name\u001b[0m\u001b[1;33m)\u001b[0m\u001b[1;33m;\u001b[0m\u001b[1;33m\u001b[0m\u001b[0m\n\u001b[0;32m      4\u001b[0m \u001b[1;33m\u001b[0m\u001b[0m\n\u001b[1;32m----> 5\u001b[1;33m     \u001b[0mjumper_xy\u001b[0m\u001b[1;33m,\u001b[0m\u001b[0mimg\u001b[0m \u001b[1;33m=\u001b[0m \u001b[0mfind_jumper_xy\u001b[0m\u001b[1;33m(\u001b[0m\u001b[0mimg\u001b[0m\u001b[1;33m)\u001b[0m\u001b[1;33m;\u001b[0m\u001b[1;33m\u001b[0m\u001b[0m\n\u001b[0m\u001b[0;32m      6\u001b[0m \u001b[1;33m\u001b[0m\u001b[0m\n\u001b[0;32m      7\u001b[0m     \u001b[0mmirrored_xy\u001b[0m \u001b[1;33m=\u001b[0m \u001b[1;33m(\u001b[0m\u001b[0mscreen_x_eff\u001b[0m\u001b[1;33m-\u001b[0m\u001b[0mjumper_xy\u001b[0m\u001b[1;33m[\u001b[0m\u001b[1;36m0\u001b[0m\u001b[1;33m]\u001b[0m\u001b[1;33m,\u001b[0m\u001b[0mscreen_y_eff\u001b[0m\u001b[1;33m-\u001b[0m\u001b[0mjumper_xy\u001b[0m\u001b[1;33m[\u001b[0m\u001b[1;36m1\u001b[0m\u001b[1;33m]\u001b[0m\u001b[1;33m)\u001b[0m  \u001b[1;31m#mirror the jumper base location to get the target base location\u001b[0m\u001b[1;33m\u001b[0m\u001b[0m\n",
      "\u001b[1;31mValueError\u001b[0m: too many values to unpack"
     ]
    },
    {
     "data": {
      "text/plain": [
       "<matplotlib.figure.Figure at 0x350f080>"
      ]
     },
     "metadata": {},
     "output_type": "display_data"
    }
   ],
   "source": [
    "while True:\n",
    "    os.system('adb shell screencap /sdcard/1.png');     #take a screenshot\n",
    "    os.system('adb pull /sdcard/1.png ./scrshot.png');  #download the screenshot to local disk\n",
    "    \n",
    "    jumper_xy,target_xy,distance,img = find_positions('scrshot.png');\n",
    "    \n",
    "    plt.clf()\n",
    "    fig=plt.figure(figsize=(18, 16))\n",
    "    plt.subplot(111)\n",
    "    plt.imshow(cv2.cvtColor(img, cv2.COLOR_BGR2RGB))\n",
    "    plt.xticks([]), plt.yticks([])\n",
    "    plt.show()\n",
    "\n",
    "    if distance<0: #fail to find match\n",
    "        print('failed');\n",
    "        break;\n",
    "    jump(distance);\n",
    "    \n",
    "    dt = 2.0 + np.random.rand();\n",
    "    print(dt);\n",
    "    time.sleep(dt);\n",
    "    \n",
    "    \n",
    "    display.display(plt.gcf())\n",
    "    display.clear_output(wait=True)   \n",
    "    "
   ]
  },
  {
   "cell_type": "code",
   "execution_count": null,
   "metadata": {
    "collapsed": true
   },
   "outputs": [],
   "source": []
  }
 ],
 "metadata": {
  "kernelspec": {
   "display_name": "Python 2",
   "language": "python",
   "name": "python2"
  },
  "language_info": {
   "codemirror_mode": {
    "name": "ipython",
    "version": 2
   },
   "file_extension": ".py",
   "mimetype": "text/x-python",
   "name": "python",
   "nbconvert_exporter": "python",
   "pygments_lexer": "ipython2",
   "version": "2.7.12"
  }
 },
 "nbformat": 4,
 "nbformat_minor": 2
}
